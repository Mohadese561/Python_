{
 "cells": [
  {
   "cell_type": "markdown",
   "metadata": {},
   "source": [
    "## 5 Some Buil-in Functions:\n",
    "* ```min()```, ```max()```\n",
    "* ```mean()```, ```median()```, ```std()```"
   ]
  },
  {
   "cell_type": "code",
   "execution_count": null,
   "metadata": {},
   "outputs": [],
   "source": [
    "arr = np.random.rand(6,5)\n",
    "arr"
   ]
  },
  {
   "cell_type": "code",
   "execution_count": null,
   "metadata": {},
   "outputs": [],
   "source": [
    "print(np.min(arr,axis = 1))\n",
    "print('min = ', np.min(arr), '   ', 'max = ', np.max(arr))\n",
    "print('min_arg = ', np.argmin(arr), '   ', 'max_arg = ', np.argmax(arr))"
   ]
  },
  {
   "cell_type": "code",
   "execution_count": null,
   "metadata": {},
   "outputs": [],
   "source": [
    "print('mean = ', np.mean(arr), '   ', 'median = ', np.median(arr),  '   ', 'std = ', np.std(arr))"
   ]
  },
  {
   "cell_type": "markdown",
   "metadata": {},
   "source": [
    "## 6 Input & Output (IO)\n",
    "\n",
    "* Binary files\n",
    "  * ```save```\n",
    "  * ```load```\n",
    "* text files\n",
    " * ```loadtxt``` \n",
    " * ```sorting```"
   ]
  },
  {
   "cell_type": "code",
   "execution_count": null,
   "metadata": {},
   "outputs": [],
   "source": [
    "# Binary files:\n",
    "import numpy as np\n",
    "arr_1 = np.array([1,-1,0,3,2])\n",
    "print(arr_1)\n",
    "\n",
    "np.save('arr_saved', arr_1)\n",
    "\n",
    "\n",
    "np.load('arr_saved.npy')"
   ]
  },
  {
   "cell_type": "code",
   "execution_count": null,
   "metadata": {},
   "outputs": [],
   "source": [
    "# Text file:\n",
    "myfile = 'sample.txt'\n",
    "\n",
    "dtype1 = np.dtype([('gender', 'S1'), ('height', 'float64')])\n",
    "arr =np.loadtxt(myfile, dtype = dtype1, skiprows = 4, usecols = (2,3))\n",
    "\n",
    "print(arr)"
   ]
  },
  {
   "cell_type": "markdown",
   "metadata": {},
   "source": [
    "#### Sorting:"
   ]
  },
  {
   "cell_type": "code",
   "execution_count": null,
   "metadata": {},
   "outputs": [],
   "source": [
    "#help(np.sort)\n",
    "sorted_arr = np.sort(arr, axis = -1, kind = 'quicksort', order = 'height')\n",
    "print('sorted_arr = ',sorted_arr,'\\n')\n",
    "\n",
    "\n",
    "# sorting:(2D array)\n",
    "mat = np.array([[1,0,2],[0,3,-2]])\n",
    "print('matrix = \\n',mat)\n",
    "\n",
    "sorted_mat = np.sort(mat, axis = 0, kind = 'quicksort')\n",
    "print('sorted_mat = \\n', sorted_mat,'\\n')\n",
    "\n",
    "# reversing (1D array)\n",
    "vec = np.array([1,0,2,-3,7,4])\n",
    "print('vec = ', vec, '\\nreversed_vec = ', vec[::-1])"
   ]
  },
  {
   "cell_type": "markdown",
   "metadata": {},
   "source": [
    "#### Searching:"
   ]
  },
  {
   "cell_type": "code",
   "execution_count": null,
   "metadata": {},
   "outputs": [],
   "source": [
    "print(arr)\n",
    "male1 = arr['gender'] == b'M'\n",
    "arr['height'][male1]\n",
    "arr['height'][male1].mean()\n",
    "arr['height'][~male1]"
   ]
  },
  {
   "cell_type": "code",
   "execution_count": null,
   "metadata": {},
   "outputs": [],
   "source": [
    "def check_value(s):\n",
    "    try:\n",
    "        return int(s)\n",
    "    except ValueError:\n",
    "        return -1\n",
    "        \n",
    "dtype2 = np.dtype([('age', 'int32'),('gender', 'S1')])\n",
    "arr =np.loadtxt(myfile, dtype = dtype2, skiprows = 4, usecols = (1,2),converters={1: check_value})\n",
    "arr"
   ]
  },
  {
   "cell_type": "code",
   "execution_count": null,
   "metadata": {},
   "outputs": [],
   "source": [
    "ages = arr['age'] > 0"
   ]
  },
  {
   "cell_type": "code",
   "execution_count": null,
   "metadata": {},
   "outputs": [],
   "source": [
    "ages"
   ]
  }
 ],
 "metadata": {
  "kernelspec": {
   "display_name": "Python 3",
   "language": "python",
   "name": "python3"
  },
  "language_info": {
   "codemirror_mode": {
    "name": "ipython",
    "version": 3
   },
   "file_extension": ".py",
   "mimetype": "text/x-python",
   "name": "python",
   "nbconvert_exporter": "python",
   "pygments_lexer": "ipython3",
   "version": "3.8.5"
  }
 },
 "nbformat": 4,
 "nbformat_minor": 4
}
