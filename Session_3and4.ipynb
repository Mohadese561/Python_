{
 "cells": [
  {
   "cell_type": "markdown",
   "metadata": {},
   "source": [
    "# Why NumPy?!\n",
    "\n",
    "* Less memory\n",
    "* Faster\n",
    "* Convenient to use\n",
    "* Backend of popular libraries: ```OpenCV```, ```MathPlotLib```, ```Pandas```, ..."
   ]
  },
  {
   "cell_type": "code",
   "execution_count": null,
   "metadata": {},
   "outputs": [],
   "source": [
    "import numpy as np\n",
    "from sys import getsizeof as size\n",
    "\n",
    "my_list = [1, 2, 3, 4, 5, 6]\n",
    "my_array = np.array([1, 2, 3, 4, 5, 6])\n",
    "\n",
    "size_my_list = size(my_list)\n",
    "size_my_array = size(my_array)\n",
    "\n",
    "size_each = size(my_list[0])\n",
    "n = len(my_list)\n",
    "\n",
    "#print(size_each)\n",
    "\n",
    "print(f\"size list = {size_my_list + size_each*n} \\nsize numpy array = {size_my_array}\")"
   ]
  },
  {
   "cell_type": "code",
   "execution_count": null,
   "metadata": {},
   "outputs": [],
   "source": [
    "import time\n",
    "\n",
    "n = 10000000\n",
    "\n",
    "def time_list():\n",
    "    t1 = time.time()\n",
    "    l1 = range(n)\n",
    "    l2 = range(n)\n",
    "    sum_ = [l1[i] + l2[i] for i in range(len(l1))]\n",
    "    return time.time() - t1\n",
    "\n",
    "def time_Numarray():\n",
    "    t1 = time.time()\n",
    "    l1 = np.arange(n)\n",
    "    l2 = np.arange(n)\n",
    "    sum_ = l1 + l2\n",
    "    return time.time() - t1\n",
    "\n",
    "t_list = time_list()\n",
    "t_Narray = time_Numarray()\n",
    "\n",
    "print(\"numpy array is \"  + str(t_list/ t_Narray) + \" faster than list\")"
   ]
  },
  {
   "cell_type": "code",
   "execution_count": null,
   "metadata": {},
   "outputs": [],
   "source": [
    "#pip install ...\n",
    "#pip show ..."
   ]
  },
  {
   "cell_type": "markdown",
   "metadata": {},
   "source": [
    "## 1 Define an array:"
   ]
  },
  {
   "cell_type": "code",
   "execution_count": null,
   "metadata": {},
   "outputs": [],
   "source": [
    "import numpy as np\n",
    "\n",
    "arr_1D = np.array([1,2,3])\n",
    "arr_1D"
   ]
  },
  {
   "cell_type": "code",
   "execution_count": null,
   "metadata": {},
   "outputs": [],
   "source": [
    "arr_2D = np.array([[1,2],[3,4]])\n",
    "arr_2D"
   ]
  },
  {
   "cell_type": "code",
   "execution_count": null,
   "metadata": {},
   "outputs": [],
   "source": [
    "np.arange(10)"
   ]
  },
  {
   "cell_type": "code",
   "execution_count": null,
   "metadata": {},
   "outputs": [],
   "source": [
    "np.linspace(0,10,5)"
   ]
  },
  {
   "cell_type": "markdown",
   "metadata": {},
   "source": [
    "### 1.1 np.array()  vs. np.asarray()"
   ]
  },
  {
   "cell_type": "code",
   "execution_count": null,
   "metadata": {},
   "outputs": [],
   "source": [
    "arr1 = np.array([1,2,3])\n",
    "\n",
    "arr_copyT = np.array(arr1)\n",
    "arr_copyF = np.array(arr1, copy = False)\n",
    "arr_as = np.asarray(arr1)\n",
    "\n",
    "\n",
    "print('np.array(arr1): \\n')\n",
    "print(id(arr1),id(arr_copyT))\n",
    "print(np.may_share_memory(arr1,arr_copyT))\n",
    "\n",
    "print('-------------------')\n",
    "print('np.array(arr1, copy = False): \\n')\n",
    "print(id(arr1), id(arr_copyF))\n",
    "print(np.may_share_memory(arr1,arr_copyF))\n",
    "\n",
    "print('-------------------')\n",
    "print('np.asarray(arr1): \\n')\n",
    "print(id(arr1), id(arr_as))\n",
    "print(np.may_share_memory(arr1,arr_as))"
   ]
  },
  {
   "cell_type": "markdown",
   "metadata": {},
   "source": [
    "### 1.2 Indexing & Slicing"
   ]
  },
  {
   "cell_type": "code",
   "execution_count": null,
   "metadata": {},
   "outputs": [],
   "source": [
    "arr_2D = np.array([[1,2,3],\n",
    "                   [4,5,6],\n",
    "                   [7,8,9]])\n",
    "arr_2D"
   ]
  },
  {
   "cell_type": "code",
   "execution_count": null,
   "metadata": {},
   "outputs": [],
   "source": [
    "arr_2D[0]"
   ]
  },
  {
   "cell_type": "code",
   "execution_count": null,
   "metadata": {},
   "outputs": [],
   "source": [
    "arr_2D[0,1]"
   ]
  },
  {
   "cell_type": "code",
   "execution_count": null,
   "metadata": {},
   "outputs": [],
   "source": [
    "arr_2D[:,0]"
   ]
  },
  {
   "cell_type": "code",
   "execution_count": null,
   "metadata": {},
   "outputs": [],
   "source": [
    "arr_2D[0:2,2]"
   ]
  },
  {
   "cell_type": "code",
   "execution_count": null,
   "metadata": {},
   "outputs": [],
   "source": [
    "arr_2D[0,:2]"
   ]
  },
  {
   "cell_type": "code",
   "execution_count": null,
   "metadata": {},
   "outputs": [],
   "source": [
    "#arr_2D[0] = -3\n",
    "#arr_2D[0:2]\n",
    "#arr_2D[0][1]"
   ]
  },
  {
   "cell_type": "code",
   "execution_count": null,
   "metadata": {},
   "outputs": [],
   "source": [
    "for row in arr_2D:\n",
    "    print(row)\n",
    "    \n",
    "# How about columns?"
   ]
  },
  {
   "cell_type": "code",
   "execution_count": null,
   "metadata": {},
   "outputs": [],
   "source": [
    "for row in arr_2D.flat:\n",
    "    print(row)"
   ]
  },
  {
   "cell_type": "markdown",
   "metadata": {},
   "source": [
    "### 1.3 Array's attribute:\n",
    "\n",
    "* np.shape, np.size, np.ndim\n",
    "* np.reshape\n",
    "* np.dtype, np.itemsize\n",
    "* np.where"
   ]
  },
  {
   "cell_type": "code",
   "execution_count": null,
   "metadata": {},
   "outputs": [],
   "source": [
    "mat = np.array([[1, 2, 3],[3, 4, -1]])\n",
    "\n",
    "print(mat)\n",
    "print(f\"mat is a {mat.shape[0]} x {mat.shape[1]} matrix\")\n",
    "\n",
    "np.shape(mat)"
   ]
  },
  {
   "cell_type": "code",
   "execution_count": null,
   "metadata": {},
   "outputs": [],
   "source": [
    "print(mat.size)\n",
    "print(mat.ndim)"
   ]
  },
  {
   "cell_type": "code",
   "execution_count": null,
   "metadata": {},
   "outputs": [],
   "source": [
    "mat_reshape = mat.reshape(6)\n",
    "print(mat_reshape)\n",
    "print(mat_reshape.ndim)"
   ]
  },
  {
   "cell_type": "code",
   "execution_count": null,
   "metadata": {},
   "outputs": [],
   "source": [
    "print(mat.dtype)\n",
    "\n",
    "# each element = ? byte of memory\n",
    "print(mat.itemsize)\n",
    "\n",
    "mat2 = np.array([[1, 2, 3],[3, 4, -1]], dtype = np.float64)  # ' float64'\n",
    "print(mat2.dtype)"
   ]
  },
  {
   "cell_type": "code",
   "execution_count": null,
   "metadata": {},
   "outputs": [],
   "source": [
    "mat > 0\n",
    "\n",
    "np.sum(mat>0)\n",
    "\n",
    "np.where(mat>0, 1, 0)"
   ]
  },
  {
   "cell_type": "markdown",
   "metadata": {},
   "source": [
    "## 2 Some popular matrices:\n",
    "* ones, zeros, eye, identity\n",
    "* empty, full"
   ]
  },
  {
   "cell_type": "code",
   "execution_count": null,
   "metadata": {},
   "outputs": [],
   "source": [
    "import numpy as np\n",
    "np.zeros(15)\n",
    "np.zeros((4,4))"
   ]
  },
  {
   "cell_type": "code",
   "execution_count": null,
   "metadata": {},
   "outputs": [],
   "source": [
    "np.ones((120,300))"
   ]
  },
  {
   "cell_type": "code",
   "execution_count": null,
   "metadata": {},
   "outputs": [],
   "source": [
    "print(np.eye(3))\n",
    "\n",
    "np.eye(3, k=-1)\n",
    "#np.eye(3,4)"
   ]
  },
  {
   "cell_type": "code",
   "execution_count": null,
   "metadata": {},
   "outputs": [],
   "source": [
    "np.identity(3)"
   ]
  },
  {
   "cell_type": "code",
   "execution_count": null,
   "metadata": {},
   "outputs": [],
   "source": [
    "np.empty([5,4], dtype = int)"
   ]
  },
  {
   "cell_type": "code",
   "execution_count": null,
   "metadata": {},
   "outputs": [],
   "source": [
    "np.full()"
   ]
  },
  {
   "cell_type": "markdown",
   "metadata": {},
   "source": [
    "## 3 Random, choice, ... \n",
    "* ```np.random.rand()```, random, randint\n",
    "* shuffle\n",
    "* normal, normal(size =), unifrom(), uniform(size = )\n",
    "* choice([]), choice([], size = )"
   ]
  },
  {
   "cell_type": "code",
   "execution_count": null,
   "metadata": {},
   "outputs": [],
   "source": [
    "np.random.rand()\n",
    "np.random.rand(4)\n",
    "mat = np.random.rand(3,2,2)   #Tensor"
   ]
  },
  {
   "cell_type": "code",
   "execution_count": null,
   "metadata": {},
   "outputs": [],
   "source": [
    "np.random.randint(5)   # (1,10)   or (1,10,4)\n",
    "np.random.randint(2,10) \n",
    "np.random.randint(2,10,4) "
   ]
  },
  {
   "cell_type": "code",
   "execution_count": null,
   "metadata": {},
   "outputs": [],
   "source": [
    "rand_mat = np.random.randint(0,10,15).reshape((5,3))\n",
    "\n",
    "print(rand_mat)"
   ]
  },
  {
   "cell_type": "code",
   "execution_count": null,
   "metadata": {},
   "outputs": [],
   "source": [
    "np.random.shuffle(rand_mat)\n",
    "rand_mat"
   ]
  },
  {
   "cell_type": "code",
   "execution_count": null,
   "metadata": {},
   "outputs": [],
   "source": [
    "list1 = [1,34,45,6768,68,35,3]\n",
    "np.random.choice(list1)\n",
    "np.random.choice(list1, size = (3,6))"
   ]
  },
  {
   "cell_type": "markdown",
   "metadata": {},
   "source": [
    "## 4 Linear Algebra"
   ]
  },
  {
   "cell_type": "code",
   "execution_count": null,
   "metadata": {},
   "outputs": [],
   "source": [
    "x = np.array([[1,2],[0,-3]])\n",
    "y = np.array([[2,7],[7,8]])\n",
    "\n",
    "# Matrix objects are a subclass of Numpy array, N=2\n",
    "x_m = np.mat([[1,2],[0,-3]])\n",
    "y_m = np.mat([[2,7],[7,8]])\n",
    "\n",
    "x_m"
   ]
  },
  {
   "cell_type": "code",
   "execution_count": null,
   "metadata": {},
   "outputs": [],
   "source": [
    "print(np.transpose(x))\n",
    "print(x.T)\n",
    "print(x_m.T)"
   ]
  },
  {
   "cell_type": "code",
   "execution_count": null,
   "metadata": {},
   "outputs": [],
   "source": [
    "# multiple:\n",
    "print(np.matmul(x,y_m))\n",
    "np.matmul(x_m,y_m)"
   ]
  },
  {
   "cell_type": "code",
   "execution_count": null,
   "metadata": {},
   "outputs": [],
   "source": [
    "# pointwise\n",
    "print('x * y = \\n',x * y)\n",
    "\n",
    "print('***')\n",
    "\n",
    "# matrix multiplication\n",
    "print('x_m * y_m = \\n',x_m * y_m)\n",
    "\n",
    "print('-----------------------')\n",
    "\n",
    "print('x @ y_m = \\n',x_m @ y_m)\n",
    "print('x @ y = \\n',x @ y)\n",
    "\n",
    "print('-----------------------')\n",
    "\n",
    "print(np.dot(x_m,y))\n",
    "print(np.dot(x,y))\n",
    "\n",
    "\n",
    "print(x + y)\n",
    "print(x_m / y_m)"
   ]
  },
  {
   "cell_type": "code",
   "execution_count": null,
   "metadata": {},
   "outputs": [],
   "source": [
    "x + y"
   ]
  },
  {
   "cell_type": "code",
   "execution_count": null,
   "metadata": {},
   "outputs": [],
   "source": [
    "print(y)\n",
    "y > 6\n",
    "m = (y > 6) & (y <=7)\n",
    "print(m)"
   ]
  },
  {
   "cell_type": "code",
   "execution_count": null,
   "metadata": {},
   "outputs": [],
   "source": [
    "y[(y > 6) & (y <=7)]"
   ]
  },
  {
   "cell_type": "code",
   "execution_count": null,
   "metadata": {
    "scrolled": true
   },
   "outputs": [],
   "source": [
    "b = mat.flatten()\n",
    "v = x.flatten()\n",
    "w = y.flatten()\n",
    "\n",
    "print(b)\n",
    "print(mat.reshape(12))"
   ]
  },
  {
   "cell_type": "code",
   "execution_count": null,
   "metadata": {},
   "outputs": [],
   "source": [
    "v"
   ]
  },
  {
   "cell_type": "code",
   "execution_count": null,
   "metadata": {},
   "outputs": [],
   "source": [
    "w"
   ]
  },
  {
   "cell_type": "code",
   "execution_count": null,
   "metadata": {},
   "outputs": [],
   "source": [
    "v.dot(w)   # np.dot(v,w)"
   ]
  },
  {
   "cell_type": "code",
   "execution_count": null,
   "metadata": {},
   "outputs": [],
   "source": [
    "# Broadcasting:\n",
    "v = np.array([1,2,3])   #1D\n",
    "A = np.array([[0,0,0],[1,1,1],[2,2,2]])  # 2D\n",
    "\n",
    "#print(v**2 + 1,'\\n')\n",
    "print(A + v)\n",
    "\n",
    "# math. functions\n",
    "#np.exp(A)"
   ]
  },
  {
   "cell_type": "code",
   "execution_count": null,
   "metadata": {},
   "outputs": [],
   "source": [
    "print(x)\n",
    "np.linalg.inv(x)"
   ]
  },
  {
   "cell_type": "code",
   "execution_count": null,
   "metadata": {},
   "outputs": [],
   "source": [
    "# why?\n",
    "np.linalg.det(x)"
   ]
  },
  {
   "cell_type": "code",
   "execution_count": null,
   "metadata": {},
   "outputs": [],
   "source": [
    "help(np.linalg)"
   ]
  }
 ],
 "metadata": {
  "kernelspec": {
   "display_name": "Python 3",
   "language": "python",
   "name": "python3"
  },
  "language_info": {
   "codemirror_mode": {
    "name": "ipython",
    "version": 3
   },
   "file_extension": ".py",
   "mimetype": "text/x-python",
   "name": "python",
   "nbconvert_exporter": "python",
   "pygments_lexer": "ipython3",
   "version": "3.8.5"
  }
 },
 "nbformat": 4,
 "nbformat_minor": 4
}
