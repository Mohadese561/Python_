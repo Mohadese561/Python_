{
 "cells": [
  {
   "cell_type": "code",
   "execution_count": 2,
   "metadata": {},
   "outputs": [],
   "source": [
    "import math\n",
    "#dir(math)"
   ]
  },
  {
   "cell_type": "code",
   "execution_count": 1,
   "metadata": {},
   "outputs": [
    {
     "data": {
      "text/plain": [
       "[3, 's', '34']"
      ]
     },
     "execution_count": 1,
     "metadata": {},
     "output_type": "execute_result"
    }
   ],
   "source": [
    "from operator import itemgetter\n",
    "list1 = [1,2,3,4,5,'s',34,'34']\n",
    "itemgetter(2,5,7)(list1)\n",
    "#[list1[i] for i in [2,5,7])]"
   ]
  },
  {
   "cell_type": "code",
   "execution_count": 12,
   "metadata": {},
   "outputs": [],
   "source": [
    "#help(math)"
   ]
  },
  {
   "cell_type": "markdown",
   "metadata": {},
   "source": [
    "# Tuple"
   ]
  },
  {
   "cell_type": "code",
   "execution_count": null,
   "metadata": {},
   "outputs": [],
   "source": [
    "# Creating an empty tuple\n",
    "\n",
    "Tuple1 = ()\n",
    "\n",
    "print(\"Initial empty Tuple: \")\n",
    "\n",
    "print(Tuple1)"
   ]
  },
  {
   "cell_type": "markdown",
   "metadata": {},
   "source": [
    "## Python built-in methods for tuples:\n",
    "\n",
    "*```count()```: Returns the number of times a specified value occurs in a tuple\n",
    "\n",
    "*```index()```: Searches the tuple for a specified value and returns the position of where it was found"
   ]
  },
  {
   "cell_type": "code",
   "execution_count": null,
   "metadata": {},
   "outputs": [],
   "source": [
    "# Creating a Tuple with the use of list\n",
    "\n",
    "list1 = [1, 2, 4, 5, 6]\n",
    "\n",
    "print(\"\\nTuple using List: \")\n",
    "\n",
    "print(tuple(list1))"
   ]
  },
  {
   "cell_type": "code",
   "execution_count": null,
   "metadata": {},
   "outputs": [],
   "source": [
    "# Creating a Tuple with the use of built-in function\n",
    "\n",
    "Tuple1 = tuple('Geeks')\n",
    "\n",
    "print(\"\\nTuple with the use of function: \")\n",
    "\n",
    "print(Tuple1)"
   ]
  },
  {
   "cell_type": "markdown",
   "metadata": {},
   "source": [
    "# Set:"
   ]
  },
  {
   "cell_type": "code",
   "execution_count": 18,
   "metadata": {},
   "outputs": [
    {
     "name": "stdout",
     "output_type": "stream",
     "text": [
      "Initial blank Set: \n",
      "{1, 2, 3, 's23'}\n"
     ]
    }
   ],
   "source": [
    "# Creating a Set\n",
    "\n",
    "set1 = set()\n",
    "\n",
    "print(\"Initial blank Set: \")\n",
    "\n",
    "print(set1)"
   ]
  },
  {
   "cell_type": "markdown",
   "metadata": {},
   "source": [
    "# Python built-in methods for sets:\n",
    "\n",
    "* ```add()``` : Adds an element to the set\n",
    "* ```clear()``` : Removes all the elements from the set\n",
    "* ```copy()``` : Returns a copy of the set\n",
    "* ```difference()``` : Returns a set containing the difference between two or more sets\n",
    "* ```difference_update()``` : Removes the items in this set that are also included in another, specified set\n",
    "* ```discard()``` : Remove the specified item\n",
    "* ```intersection()``` : Returns a set, that is the intersection of two or more sets\n",
    "* ```intersection_update()``` : Removes the items in this set that are not present in other, specified set(s)\n",
    "* ```isdisjoint()``` : Returns whether two sets have a intersection or not\n",
    "* ```issubset()``` : Returns whether another set contains this set or not\n",
    "* ```issuperset()``` : Returns whether this set contains another set or not\n",
    "* ```pop()``` : Removes an element from the set\n",
    "* ```remove()``` : Removes the specified element\n",
    "* ```symmetric_difference()``` : Returns a set with the symmetric differences of two sets\n",
    "* ```symmetric_difference_update()``` : inserts the symmetric differences from this set and another\n",
    "* ```union()``` : Return a set containing the union of sets\n",
    "* ```update()``` : Update the set with another set, or any other iterable\n"
   ]
  },
  {
   "cell_type": "markdown",
   "metadata": {},
   "source": [
    "# Deleting Variables"
   ]
  },
  {
   "cell_type": "code",
   "execution_count": null,
   "metadata": {},
   "outputs": [],
   "source": [
    "a = 'red'\n",
    "del a\n",
    "a"
   ]
  },
  {
   "cell_type": "code",
   "execution_count": null,
   "metadata": {},
   "outputs": [],
   "source": [
    "print(f' {a} is\n",
    "      a string\n",
    "      ')"
   ]
  },
  {
   "cell_type": "markdown",
   "metadata": {},
   "source": [
    "# Type Casting"
   ]
  },
  {
   "cell_type": "code",
   "execution_count": 4,
   "metadata": {},
   "outputs": [],
   "source": [
    "x = int(1)  \n",
    "y = int(2.8)\n",
    "z = int(\"3\")"
   ]
  },
  {
   "cell_type": "code",
   "execution_count": 5,
   "metadata": {},
   "outputs": [
    {
     "name": "stdout",
     "output_type": "stream",
     "text": [
      "1 2 3\n",
      "<class 'int'>\n",
      "<class 'int'>\n",
      "<class 'int'>\n"
     ]
    }
   ],
   "source": [
    "print(x,y,z)\n",
    "print(type(x));print(type(y));print(type(z))"
   ]
  },
  {
   "cell_type": "code",
   "execution_count": 6,
   "metadata": {},
   "outputs": [],
   "source": [
    "x = float(1)\n",
    "y = float(2.8)\n",
    "z = float(\"3\")\n",
    "w = float(\"4.2\")"
   ]
  },
  {
   "cell_type": "markdown",
   "metadata": {},
   "source": [
    "### isinstance"
   ]
  },
  {
   "cell_type": "code",
   "execution_count": null,
   "metadata": {},
   "outputs": [],
   "source": [
    "a = True\n",
    "isinstance(a, bool)"
   ]
  },
  {
   "cell_type": "markdown",
   "metadata": {},
   "source": [
    "# if, elif, else Statements\n",
    "\n",
    "\n",
    "    if case1:\n",
    "        perform action1\n",
    "    elif case2:\n",
    "        perform action2\n",
    "    else: \n",
    "        perform action3\n"
   ]
  },
  {
   "cell_type": "markdown",
   "metadata": {},
   "source": [
    "### Example"
   ]
  },
  {
   "cell_type": "code",
   "execution_count": null,
   "metadata": {},
   "outputs": [],
   "source": [
    "person = 'George'\n",
    "\n",
    "if('George' == 'Sammy'):\n",
    "    print('Welcome Sammy!')\n",
    "elif('George' =='George'):\n",
    "    print('Welcome George!')\n",
    "elif(person =='Mohmmad'):\n",
    "    print('Welcome Mohmmad!')\n",
    "else:\n",
    "    print(\"Welcome, what's your name?\")"
   ]
  },
  {
   "cell_type": "code",
   "execution_count": null,
   "metadata": {},
   "outputs": [],
   "source": [
    "num =  int(input(\"Enter a number: \"))\n",
    "\n",
    "if((num%2 == 0)&(num != 0)):\n",
    "    print(num, 'Even')\n",
    "elif(num == 0):\n",
    "    print('zero')\n",
    "else:\n",
    "    print(num, \"Odd\")"
   ]
  },
  {
   "cell_type": "markdown",
   "metadata": {},
   "source": [
    "# for Loop\n",
    "\n",
    "A <code>for</code> loop acts as an iterator in Python:\n",
    "\n",
    "\n",
    "    for item in object:\n",
    "        statements to do stuff"
   ]
  },
  {
   "cell_type": "markdown",
   "metadata": {},
   "source": [
    "### Example 1"
   ]
  },
  {
   "cell_type": "code",
   "execution_count": null,
   "metadata": {},
   "outputs": [],
   "source": [
    "list1 = [1, 2, 3, 4, 5, 6, 7, 8, 9, 10]\n",
    "\n",
    "\n",
    "for num in list1:\n",
    "    if(num % 2 == 0):\n",
    "        print(f\"{num} is an even number\")\n",
    "    else:\n",
    "        print(f'{num} is an Odd number')"
   ]
  },
  {
   "cell_type": "markdown",
   "metadata": {},
   "source": [
    "### Example 2"
   ]
  },
  {
   "cell_type": "code",
   "execution_count": null,
   "metadata": {},
   "outputs": [],
   "source": [
    "list2 = [(2, 4), (6, 8), (10, 12)]\n",
    "\n",
    "for tup in list2:\n",
    "    print(tup)\n",
    "\n",
    "# Now with unpacking!\n",
    "for (t1, t2) in list2:\n",
    "    print(t1)"
   ]
  },
  {
   "cell_type": "markdown",
   "metadata": {},
   "source": [
    "## Break - Continue - Pass"
   ]
  },
  {
   "cell_type": "code",
   "execution_count": null,
   "metadata": {},
   "outputs": [],
   "source": [
    "for letter in 'Python':\n",
    "    if(letter == 'h'):\n",
    "        break\n",
    "    print('Current Letter :', letter)\n",
    "else: print('end')"
   ]
  },
  {
   "cell_type": "code",
   "execution_count": null,
   "metadata": {},
   "outputs": [],
   "source": [
    "for letter in 'Python':\n",
    "    if(letter == 'h'):\n",
    "        continue\n",
    "    print('Current Letter :', letter)\n",
    "else: print('end')"
   ]
  },
  {
   "cell_type": "markdown",
   "metadata": {},
   "source": [
    "# While"
   ]
  },
  {
   "cell_type": "code",
   "execution_count": null,
   "metadata": {},
   "outputs": [],
   "source": [
    "x = 0\n",
    "\n",
    "while(x < 10):\n",
    "    print('x is currently: ', x)\n",
    "    x+=1"
   ]
  },
  {
   "cell_type": "code",
   "execution_count": null,
   "metadata": {},
   "outputs": [],
   "source": []
  },
  {
   "cell_type": "code",
   "execution_count": null,
   "metadata": {},
   "outputs": [],
   "source": []
  }
 ],
 "metadata": {
  "kernelspec": {
   "display_name": "Python 3",
   "language": "python",
   "name": "python3"
  },
  "language_info": {
   "codemirror_mode": {
    "name": "ipython",
    "version": 3
   },
   "file_extension": ".py",
   "mimetype": "text/x-python",
   "name": "python",
   "nbconvert_exporter": "python",
   "pygments_lexer": "ipython3",
   "version": "3.8.5"
  }
 },
 "nbformat": 4,
 "nbformat_minor": 4
}
